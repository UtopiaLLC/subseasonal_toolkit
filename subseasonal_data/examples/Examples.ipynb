{
 "cells": [
  {
   "cell_type": "markdown",
   "metadata": {},
   "source": [
    "# Usage Examples\n",
    "\n",
    "In this notebook, we provide a few examples of how to use the `subseasonal_data` package. This assumes that you have the package and `azcopy` installed. For more details, see the `Getting Started.ipynb` notebook.\n",
    "\n",
    "**Summary:**\n",
    "\n",
    "1. [Example: Climatology](#Example:-Climatology)\n",
    "2. [Example: Ground Truth](#Example:-Ground-Truth)\n",
    "3. [Example: CFSv2](#Example:-CFSv2)\n",
    "3. [Example: Combined Data](#Example:-Combined-Data)"
   ]
  },
  {
   "cell_type": "code",
   "execution_count": null,
   "metadata": {},
   "outputs": [],
   "source": [
    "# General imports\n",
    "import pandas as pd\n",
    "import calendar\n",
    "import cartopy.crs as ccrs\n",
    "import cartopy.feature as cfeature\n",
    "import numpy as np\n",
    "import matplotlib\n",
    "import matplotlib.animation as animation\n",
    "import matplotlib.patches as mpatches\n",
    "import matplotlib.pyplot as plt\n",
    "from matplotlib import ticker\n",
    "%matplotlib notebook"
   ]
  },
  {
   "cell_type": "code",
   "execution_count": null,
   "metadata": {},
   "outputs": [],
   "source": [
    "from subseasonal_data import data_loaders"
   ]
  },
  {
   "cell_type": "code",
   "execution_count": null,
   "metadata": {},
   "outputs": [],
   "source": [
    "# Utility functions\n",
    "def show_measurement_on_map(data_matrix, title, vmax):\n",
    "    \"\"\"Show sequential measurements on the U.S. map in an matplotlib.animation plot\n",
    "    \n",
    "    Parameters\n",
    "    ----------\n",
    "    data_matrix: array of formatted data matrices (see get_data_matrix)\n",
    "    \n",
    "    title: array of titles to accompany the data matrices\n",
    "    \n",
    "    vmax: Maximum value on colorbar. Minimum is 0.\n",
    "    \"\"\"\n",
    "    # Set figure\n",
    "    fig = plt.figure(figsize=(9, 6))\n",
    "    ax = fig.add_axes([0, 0, 1, 1], projection=ccrs.PlateCarree())\n",
    "\n",
    "    # Draw coastlines, US states\n",
    "    ax.coastlines(linewidth=0.2, color='black')  # add coast lines\n",
    "    ax.add_feature(cfeature.STATES)  # add US states\n",
    "    ax.set_yticks(np.arange(25, 50+1, 5), crs=ccrs.PlateCarree())\n",
    "    ax.set_xticks(np.arange(-125, -67+1, 8), crs=ccrs.PlateCarree())\n",
    "    lats = np.linspace(26, 50, data_matrix[0].shape[0]+1)\n",
    "    lons = np.linspace(-125, -68, data_matrix[0].shape[1]+1)\n",
    "    color_map = 'RdBu_r'\n",
    "    plot = ax.pcolormesh(lons+0.5, lats-0.5, data_matrix[0],\n",
    "                        vmin=0, vmax=vmax,\n",
    "                        cmap=color_map, snap=True)\n",
    "    cb = plt.colorbar(plot, fraction=0.02, pad=0.04)\n",
    "    def animate(i):\n",
    "        plot.set_array(data_matrix[i].ravel())\n",
    "        plt.title(title[i])\n",
    "        return plot\n",
    "    ani = animation.FuncAnimation(\n",
    "        fig, animate, frames=len(data_matrix), interval=700, blit=False, repeat=False)\n",
    "    return ani\n",
    "    \n",
    "def get_data_matrix(data, values):\n",
    "    \"\"\"Get pandas dataframe with (lat, lon, values) ready for plotting\n",
    "    \n",
    "    If there is more than one value per (lat, lon) grid point, the values will be averaged.\n",
    "    This is especially useful for calculating daily/monthly/yearly averages.\n",
    "    \n",
    "    Parameters\n",
    "    ----------\n",
    "    data: pd.DataFrame with (lat, lon, values) format\n",
    "    \n",
    "    values: Name of the 'values' column\n",
    "    \"\"\"\n",
    "    # Average if more than one data point per (lat, lon) pair\n",
    "    data_aux = data[[\"lat\", \"lon\", values]].groupby(by=[\"lat\", \"lon\"], as_index=False).agg(np.mean)\n",
    "    data_pivot = data_aux.pivot(index='lat', columns='lon', values=values)\n",
    "    data_matrix = data_pivot.values\n",
    "    data_matrix = np.ma.masked_invalid(data_matrix)\n",
    "    return data_matrix"
   ]
  },
  {
   "cell_type": "markdown",
   "metadata": {},
   "source": [
    "# Example: Climatology\n",
    "\n",
    "We load climatology data for temperature, i.e. historical average of temperatures for each grid point. We plot the historical averages for the 1st of each month."
   ]
  },
  {
   "cell_type": "code",
   "execution_count": null,
   "metadata": {},
   "outputs": [],
   "source": [
    "# Load data\n",
    "df = data_loaders.get_climatology(\"us_tmp2m\")"
   ]
  },
  {
   "cell_type": "code",
   "execution_count": null,
   "metadata": {},
   "outputs": [],
   "source": [
    "df.head()"
   ]
  },
  {
   "cell_type": "code",
   "execution_count": null,
   "metadata": {},
   "outputs": [],
   "source": [
    "# Process data\n",
    "df_slice = df[pd.DatetimeIndex(df.start_date).day==1]\n",
    "data_matrix = [\n",
    "    get_data_matrix(df_slice[pd.DatetimeIndex(df_slice.start_date).month==i], values=\"tmp2m\") for i in range(1, 13)\n",
    "]\n",
    "title = [f\"Average temperature (C) for {calendar.month_name[i]} 1st\" for i in range(1, 13)]"
   ]
  },
  {
   "cell_type": "code",
   "execution_count": null,
   "metadata": {},
   "outputs": [],
   "source": [
    "# Plot\n",
    "show_measurement_on_map(data_matrix, title, vmax=25)"
   ]
  },
  {
   "cell_type": "markdown",
   "metadata": {},
   "source": [
    "# Example: Ground Truth\n",
    "\n",
    "We load ground truth data for precipitation for each grid point. We plot the yearly averages for each grid point."
   ]
  },
  {
   "cell_type": "code",
   "execution_count": null,
   "metadata": {},
   "outputs": [],
   "source": [
    "# Load data\n",
    "df = data_loaders.get_ground_truth(\"us_precip\")"
   ]
  },
  {
   "cell_type": "code",
   "execution_count": null,
   "metadata": {},
   "outputs": [],
   "source": [
    "df.head()"
   ]
  },
  {
   "cell_type": "code",
   "execution_count": null,
   "metadata": {},
   "outputs": [],
   "source": [
    "year_range = np.arange(1980, 2021, 5)\n",
    "df_slice = df[pd.DatetimeIndex(df.start_date).year.isin(year_range)]\n",
    "\n",
    "data_matrix = [\n",
    "    get_data_matrix(df_slice[pd.DatetimeIndex(df_slice.start_date).year==i], values=\"precip\") for i in year_range\n",
    "]\n",
    "title = [f\"Yearly average precipitation (mm): {i}\" for i in year_range]"
   ]
  },
  {
   "cell_type": "code",
   "execution_count": null,
   "metadata": {},
   "outputs": [],
   "source": [
    "show_measurement_on_map(data_matrix, title, vmax=100)"
   ]
  },
  {
   "cell_type": "markdown",
   "metadata": {},
   "source": [
    "# Example: CFSv2\n",
    "\n",
    "CFSv2 is one of the SubX models. It has predicitions up to 42 days ahead (leads). We load the dataset with includes 2-day averages for CFSv2 temperatures."
   ]
  },
  {
   "cell_type": "code",
   "execution_count": null,
   "metadata": {},
   "outputs": [],
   "source": [
    "df = data_loaders.get_forecast(\"subx_cfsv2-tmp2m-us\")"
   ]
  },
  {
   "cell_type": "code",
   "execution_count": null,
   "metadata": {},
   "outputs": [],
   "source": [
    "df.head()"
   ]
  },
  {
   "cell_type": "markdown",
   "metadata": {},
   "source": [
    "# Example: Combined Data\n",
    "\n",
    "We load the dataset that contains most of the data made available. "
   ]
  },
  {
   "cell_type": "code",
   "execution_count": null,
   "metadata": {},
   "outputs": [],
   "source": [
    "df = data_loaders.load_combined_data(\"all_data\", \"us_tmp2m\", \"34w\")"
   ]
  },
  {
   "cell_type": "code",
   "execution_count": null,
   "metadata": {},
   "outputs": [],
   "source": [
    "df.columns"
   ]
  }
 ],
 "metadata": {
  "language_info": {
   "name": "python",
   "nbconvert_exporter": "python",
   "pygments_lexer": "ipython3"
  }
 },
 "nbformat": 4,
 "nbformat_minor": 4
}
